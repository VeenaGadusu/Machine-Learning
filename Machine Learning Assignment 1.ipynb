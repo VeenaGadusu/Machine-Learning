{
 "cells": [
  {
   "cell_type": "code",
   "execution_count": 1,
   "id": "548f49af",
   "metadata": {},
   "outputs": [
    {
     "name": "stdout",
     "output_type": "stream",
     "text": [
      "Sorted List is  [19, 19, 20, 22, 24, 24, 24, 25, 25, 26]\n",
      "Max age is :  26\n",
      "Min age is :  19\n",
      "After adding of the min age again to the ages list : [19, 19, 20, 22, 24, 24, 24, 25, 25, 26, 19]\n",
      "After adding of the min age again to the ages list : [19, 19, 20, 22, 24, 24, 24, 25, 25, 26, 19, 26]\n",
      "Median of the list :  24.0\n",
      "Average age = 22.75\n",
      "Range of ages : 7\n"
     ]
    }
   ],
   "source": [
    "# Question1\n",
    "# list\n",
    "ages = [19, 22, 19, 24, 20, 25, 26, 24, 25, 24]\n",
    "ages.sort()  # sorting the list\n",
    "print(\"Sorted List is \", ages)\n",
    "# min and max age\n",
    "print(\"Max age is : \", max(ages))  # Max age\n",
    "print(\"Min age is : \", min(ages))  # Min age\n",
    "# Add min age and max age of list to the ages list\n",
    "ages.append(min(ages))  # adding min age in the list\n",
    "print(\"After adding of the min age again to the ages list :\", ages)\n",
    "ages.append(max(ages))  # adding max age in the list\n",
    "print(\"After adding of the min age again to the ages list :\", ages)\n",
    "# Median of the list age\n",
    "import statistics  # Find the median age (one middle item or two middle item divided by two\n",
    "print(\"Median of the list : \", statistics.median(ages))\n",
    "# Average age (sum of all items divided by their number)\n",
    "def Average(ages):\n",
    "    return sum(ages) / len(ages)\n",
    "average = Average(ages)\n",
    "print(\"Average age =\", round(average, 2))\n",
    "# Range of the age (max minus min)\n",
    "max_value = max(ages)\n",
    "min_Value = min(ages)\n",
    "range_ = max(ages) - min(ages)\n",
    "print(\"Range of ages :\", range_)\n",
    "\n"
   ]
  },
  {
   "cell_type": "code",
   "execution_count": 2,
   "id": "ccd30af9",
   "metadata": {},
   "outputs": [
    {
     "name": "stdout",
     "output_type": "stream",
     "text": [
      "{'name': 'Harry', 'colour': 'white', 'breed': 'samoyed', 'legs': 'four', 'age': 'five'}\n",
      "Student {'first_name': 'Jon', 'lastname': 'Stark', 'gender': 'male', 'age': '23', 'martial status': 'Single', 'skills': 'Python', 'country': 'India', 'city': 'Kerala', 'address': '#369 st'}\n",
      "Length of Student dictionary: 9\n",
      "Student skill value: Python\n",
      "Data type : <class 'str'>\n",
      "After Modifying skills values {'first_name': 'Jon', 'lastname': 'Stark', 'gender': 'male', 'age': '23', 'martial status': 'Single', 'skills': 'Python,Java', 'country': 'India', 'city': 'Kerala', 'address': '#369 st'}\n",
      "Keys as a List: dict_keys(['first_name', 'lastname', 'gender', 'age', 'martial status', 'skills', 'country', 'city', 'address'])\n",
      "Values as a List: dict_values(['Jon', 'Stark', 'male', '23', 'Single', 'Python,Java', 'India', 'Kerala', '#369 st'])\n"
     ]
    }
   ],
   "source": [
    "# Question 2 Dictionary\n",
    "# empty dictionary\n",
    "dog = {}\n",
    "dog[\"name\"] = \"Harry\"\n",
    "dog[\"colour\"] = \"white\"\n",
    "dog[\"breed\"] = \"samoyed\"\n",
    "dog[\"legs\"] = \"four\"\n",
    "dog[\"age\"] = \"five\"\n",
    "print(dog)\n",
    "# dct = {'key1':'value1', 'key2':'value2','key3':'value3'}\n",
    "student = {\"first_name\": \"Jon\",\n",
    "           \"lastname\": \"Stark\",\n",
    "           \"gender\": \"male\",\n",
    "           \"age\": \"23\",\n",
    "           \"martial status\": \"Single\",\n",
    "           \"skills\": \"Python\",\n",
    "           \"country\": \"India\",\n",
    "           \"city\": \"Kerala\",\n",
    "           \"address\": \"#369 st\"}\n",
    "print(\"Student\", student)\n",
    "print(\"Length of Student dictionary:\", len(student))  # length of the student dictionary\n",
    "print(\"Student skill value:\", student[\"skills\"])  # Student skill value\n",
    "print(\"Data type :\", type(student[\"skills\"]))  # checking data type\n",
    "student[\"skills\"] = \"Python,Java\"  # adding skill value\n",
    "print(\"After Modifying skills values\", student)\n",
    "keys_list = (student.keys())\n",
    "print(\"Keys as a List:\", keys_list)\n",
    "keys_list = (student.values())\n",
    "print(\"Values as a List:\", keys_list)\n",
    "\n"
   ]
  },
  {
   "cell_type": "code",
   "execution_count": 3,
   "id": "ed67f643",
   "metadata": {},
   "outputs": [
    {
     "name": "stdout",
     "output_type": "stream",
     "text": [
      "('ram', 'krishna', 'sita', 'radha')\n",
      "Number of siblings:  4\n",
      "Family members : ('ram', 'krishna', 'sita', 'radha', 'vishnu', 'lakshmi')\n"
     ]
    }
   ],
   "source": [
    "# Question3\n",
    "# Create a tuple containing names of your sisters and your brothers\n",
    "brothers_tuple = ('ram', 'krishna')\n",
    "sisters_tuple = ('sita', 'radha')\n",
    "sib = brothers_tuple + sisters_tuple  #Find the total siblings\n",
    "print(sib)\n",
    "print(\"Number of siblings: \", len(sib))  # Number of siblings\n",
    "family_members = sib + ('vishnu', 'lakshmi') #Adding father and mother to the family\n",
    "print(\"Family members :\", family_members)"
   ]
  },
  {
   "cell_type": "code",
   "execution_count": 17,
   "id": "a83f0029",
   "metadata": {},
   "outputs": [
    {
     "name": "stdout",
     "output_type": "stream",
     "text": [
      "The length of the set is: 6\n",
      "After adding a company to the set:  {'Google', 'Facebook', 'twitter', 'Oracle', 'Amazon', 'Apple', 'Microsoft'}\n",
      "After adding multiple companies to the set {'Oracle', 'Amazon', 'twitter', 'Deloitte', 'Google', 'TCS', 'Microsoft', 'Facebook', 'Apple'}\n",
      "After Removing a company from the set: {'Oracle', 'Amazon', 'twitter', 'Deloitte', 'Google', 'TCS', 'Microsoft', 'Apple'}\n",
      "Join A and B: {19, 20, 22, 24, 25, 26, 27, 28}\n",
      "A intersection B is: {19, 20, 22, 24, 25, 26}\n",
      "Is A subset of B: True\n",
      "Are A and B disjoint sets: False\n",
      "Join A with B {19, 20, 22, 24, 25, 26, 27, 28}\n",
      "Join B with A {19, 20, 22, 24, 25, 26, 27, 28}\n",
      "The Symmetry between A and B is  set()\n",
      "After Deleting the A set:  set()\n",
      "After Deleting the B set:  set()\n",
      "Length of age list: 8\n",
      "Length of age set: 5\n"
     ]
    }
   ],
   "source": [
    "# Question 4\n",
    "it_companies = {'Facebook', 'Google', 'Microsoft', 'Apple', 'Oracle', 'Amazon'}\n",
    "A = {19, 22, 24, 20, 25, 26}\n",
    "B = {19, 22, 20, 25, 26, 24, 28, 27}\n",
    "age = [22, 19, 24, 25, 26, 24, 25, 24]\n",
    "print(\"The length of the set is:\", len(it_companies))\n",
    "company = ('twitter')\n",
    "it_companies.add(company)  # Adding twitter company to the set\n",
    "print(\"After adding a company to the set: \", it_companies)\n",
    "multiple_companies = ('TCS', 'Deloitte')\n",
    "it_companies.update(multiple_companies)  # inserting multiple companies to the set\n",
    "print(\"After adding multiple companies to the set\", it_companies)\n",
    "it_companies.remove('Facebook')  # Removing a company from the set\n",
    "print(\"After Removing a company from the set:\", it_companies)\n",
    "# Join A and B\n",
    "C = A.union(B)\n",
    "print(\"Join A and B:\", C)\n",
    "# Find A intersection B\n",
    "print(\"A intersection B is:\", A.intersection(B))\n",
    "# Is A subset of B\n",
    "print(\"Is A subset of B:\", A.issubset(B))\n",
    "# Are A and B disjoint sets\n",
    "print(\"Are A and B disjoint sets:\", A.isdisjoint(B))\n",
    "# Join A with B and B with A\n",
    "A.update(B)  # A with B\n",
    "print(\"Join A with B\", A)\n",
    "B.update(A)  # B with A\n",
    "print(\"Join B with A\", B)\n",
    "# What is the symmetric difference between A and B\n",
    "symmetry = A.symmetric_difference(B)\n",
    "print(\"The Symmetry between A and B is \", symmetry)\n",
    "# Delete the sets completely\n",
    "A.clear()\n",
    "print(\"After Deleting the A set: \", A)\n",
    "B.clear()\n",
    "print(\"After Deleting the B set: \", B)\n",
    "# Convert the ages to a set and compare the length of the list and the set\n",
    "age_set = set(age)\n",
    "print(\"Length of age list:\", len(age))\n",
    "print(\"Length of age set:\", len(age_set))"
   ]
  },
  {
   "cell_type": "code",
   "execution_count": 3,
   "id": "4eabefe2",
   "metadata": {
    "scrolled": true
   },
   "outputs": [
    {
     "name": "stdout",
     "output_type": "stream",
     "text": [
      "please Enter the radius of a circle: 30\n",
      "_circum_of_circle_ = 188.40\n",
      "_area_of_circle_ 2826.00\n"
     ]
    }
   ],
   "source": [
    "# Question 5\n",
    "PI = 3.14\n",
    "radius = float(input('please Enter the radius of a circle: '))  # Radius as User input\n",
    "diameter = 2 * radius\n",
    "circumference = 2 * PI * radius\n",
    "area = PI * radius * radius\n",
    "print(\"_circum_of_circle_ = %.2f\" % circumference)  # circumference of a circle\n",
    "print(\"_area_of_circle_ %.2f\" % area)  # area of a circle\n"
   ]
  },
  {
   "cell_type": "code",
   "execution_count": 2,
   "id": "1f3e3539",
   "metadata": {},
   "outputs": [
    {
     "name": "stdout",
     "output_type": "stream",
     "text": [
      "Please enter a sentence: I am a teacher and I love to inspire and teach people\n",
      "The number of unique words used in this sentence:  10\n"
     ]
    }
   ],
   "source": [
    "# Question 6\n",
    "# Sentence is I am a teacher and I love to inspire and teach people\n",
    "a = input(\"Please enter a sentence: \")\n",
    "unique = set(a.split(' '))\n",
    "b = len(unique)  # No of unique words\n",
    "print(\"The number of unique words used in this sentence: \", b)"
   ]
  },
  {
   "cell_type": "code",
   "execution_count": 8,
   "id": "54812505",
   "metadata": {},
   "outputs": [
    {
     "name": "stdout",
     "output_type": "stream",
     "text": [
      "Name     \tAge\tCountry\tCity\n",
      "Asabeneh\t250\tFinland\tHelsink\n"
     ]
    }
   ],
   "source": [
    "# Question 7\n",
    "# Using tab escape sequence\n",
    "a = ('Name     \\tAge\\tCountry\\tCity')\n",
    "b = ('Asabeneh\\t250\\tFinland\\tHelsink')\n",
    "print(a)\n",
    "print(b)"
   ]
  },
  {
   "cell_type": "code",
   "execution_count": 9,
   "id": "00d10b61",
   "metadata": {},
   "outputs": [
    {
     "name": "stdout",
     "output_type": "stream",
     "text": [
      "The area of the circle with radius 10 is 314 meters square\n"
     ]
    }
   ],
   "source": [
    "# Question 8\n",
    "# using string formatting method to display\n",
    "radius = 10\n",
    "area = 3.14 * radius * radius\n",
    "print(f'The area of the circle with radius 10 is {area:.0f} meters square')"
   ]
  },
  {
   "cell_type": "code",
   "execution_count": 15,
   "id": "7f75c2e4",
   "metadata": {},
   "outputs": [
    {
     "name": "stdout",
     "output_type": "stream",
     "text": [
      "Enter the number of students: 4\n",
      "Enter weights of students :\n",
      "150\n",
      "155\n",
      "145\n",
      "148\n",
      "\n",
      "L1: [150.0, 155.0, 145.0, 148.0]\n",
      "Output: [68.04, 70.31, 65.77, 67.13]\n"
     ]
    }
   ],
   "source": [
    "#q9 Function to convert pounds to kilograms\n",
    "def pounds_to_kg(pounds):\n",
    "    return round(pounds * 0.453592, 2)\n",
    "\n",
    "# Read the number of students\n",
    "n = int(input(\"Enter the number of students: \"))\n",
    "\n",
    "# Initialize an empty list to store weights in pounds\n",
    "weights_lbs = []\n",
    "\n",
    "# Read weights in pounds and store them in the list\n",
    "print(\"Enter weights of students :\")\n",
    "for _ in range(n):\n",
    "    weight = float(input())\n",
    "    weights_lbs.append(weight)\n",
    "\n",
    "# Initialize an empty list to store weights in kilograms\n",
    "weights_kg = []\n",
    "\n",
    "# Convert each weight in pounds to kilograms and store in the new list\n",
    "for weight in weights_lbs:\n",
    "    weights_kg.append(pounds_to_kg(weight))\n",
    "\n",
    "# Print the original and converted lists\n",
    "print(\"\\nL1:\", weights_lbs)\n",
    "print(\"Output:\", weights_kg)"
   ]
  },
  {
   "cell_type": "code",
   "execution_count": null,
   "id": "dc424454",
   "metadata": {},
   "outputs": [],
   "source": []
  },
  {
   "cell_type": "code",
   "execution_count": null,
   "id": "47a35be0",
   "metadata": {},
   "outputs": [],
   "source": []
  }
 ],
 "metadata": {
  "kernelspec": {
   "display_name": "Python 3 (ipykernel)",
   "language": "python",
   "name": "python3"
  },
  "language_info": {
   "codemirror_mode": {
    "name": "ipython",
    "version": 3
   },
   "file_extension": ".py",
   "mimetype": "text/x-python",
   "name": "python",
   "nbconvert_exporter": "python",
   "pygments_lexer": "ipython3",
   "version": "3.11.5"
  }
 },
 "nbformat": 4,
 "nbformat_minor": 5
}
